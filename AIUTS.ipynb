{
  "nbformat": 4,
  "nbformat_minor": 0,
  "metadata": {
    "colab": {
      "provenance": [],
      "authorship_tag": "ABX9TyMHJg3BUsmMNVCjauuxQKrR",
      "include_colab_link": true
    },
    "kernelspec": {
      "name": "python3",
      "display_name": "Python 3"
    },
    "language_info": {
      "name": "python"
    }
  },
  "cells": [
    {
      "cell_type": "markdown",
      "metadata": {
        "id": "view-in-github",
        "colab_type": "text"
      },
      "source": [
        "<a href=\"https://colab.research.google.com/github/sucinursania/UTS-KecerdasanBuatan/blob/main/AIUTS.ipynb\" target=\"_parent\"><img src=\"https://colab.research.google.com/assets/colab-badge.svg\" alt=\"Open In Colab\"/></a>"
      ]
    },
    {
      "cell_type": "code",
      "execution_count": 2,
      "metadata": {
        "colab": {
          "base_uri": "https://localhost:8080/"
        },
        "id": "rPWEkPxJ3Sic",
        "outputId": "34b84a17-ea40-4fc4-aaac-1de0e8d324e5"
      },
      "outputs": [
        {
          "output_type": "stream",
          "name": "stdout",
          "text": [
            "Collecting experta\n",
            "  Downloading experta-1.9.4-py3-none-any.whl.metadata (5.0 kB)\n",
            "Collecting frozendict==1.2 (from experta)\n",
            "  Downloading frozendict-1.2.tar.gz (2.6 kB)\n",
            "  Preparing metadata (setup.py) ... \u001b[?25l\u001b[?25hdone\n",
            "Collecting schema==0.6.7 (from experta)\n",
            "  Downloading schema-0.6.7-py2.py3-none-any.whl.metadata (14 kB)\n",
            "Downloading experta-1.9.4-py3-none-any.whl (35 kB)\n",
            "Downloading schema-0.6.7-py2.py3-none-any.whl (14 kB)\n",
            "Building wheels for collected packages: frozendict\n",
            "  Building wheel for frozendict (setup.py) ... \u001b[?25l\u001b[?25hdone\n",
            "  Created wheel for frozendict: filename=frozendict-1.2-py3-none-any.whl size=3149 sha256=3656a3d9fbb17f903aa33e11a42d05e2d4836ab86d22a186ec6c918f6126a4cf\n",
            "  Stored in directory: /root/.cache/pip/wheels/49/ac/f8/cb8120244e710bdb479c86198b03c7b08c3c2d3d2bf448fd6e\n",
            "Successfully built frozendict\n",
            "Installing collected packages: schema, frozendict, experta\n",
            "  Attempting uninstall: frozendict\n",
            "    Found existing installation: frozendict 2.4.6\n",
            "    Uninstalling frozendict-2.4.6:\n",
            "      Successfully uninstalled frozendict-2.4.6\n",
            "\u001b[31mERROR: pip's dependency resolver does not currently take into account all the packages that are installed. This behaviour is the source of the following dependency conflicts.\n",
            "yfinance 0.2.55 requires frozendict>=2.3.4, but you have frozendict 1.2 which is incompatible.\u001b[0m\u001b[31m\n",
            "\u001b[0mSuccessfully installed experta-1.9.4 frozendict-1.2 schema-0.6.7\n"
          ]
        }
      ],
      "source": [
        "!pip install experta"
      ]
    },
    {
      "cell_type": "code",
      "source": [
        "!pip install --upgrade frozendict"
      ],
      "metadata": {
        "colab": {
          "base_uri": "https://localhost:8080/"
        },
        "id": "g6Ub1APO5sqq",
        "outputId": "4455cbb6-0e45-4118-f55f-2d8dcdb453cc"
      },
      "execution_count": 3,
      "outputs": [
        {
          "output_type": "stream",
          "name": "stdout",
          "text": [
            "Requirement already satisfied: frozendict in /usr/local/lib/python3.11/dist-packages (1.2)\n",
            "Collecting frozendict\n",
            "  Downloading frozendict-2.4.6-py311-none-any.whl.metadata (23 kB)\n",
            "Downloading frozendict-2.4.6-py311-none-any.whl (16 kB)\n",
            "Installing collected packages: frozendict\n",
            "  Attempting uninstall: frozendict\n",
            "    Found existing installation: frozendict 1.2\n",
            "    Uninstalling frozendict-1.2:\n",
            "      Successfully uninstalled frozendict-1.2\n",
            "\u001b[31mERROR: pip's dependency resolver does not currently take into account all the packages that are installed. This behaviour is the source of the following dependency conflicts.\n",
            "experta 1.9.4 requires frozendict==1.2, but you have frozendict 2.4.6 which is incompatible.\u001b[0m\u001b[31m\n",
            "\u001b[0mSuccessfully installed frozendict-2.4.6\n"
          ]
        }
      ]
    },
    {
      "cell_type": "code",
      "source": [
        "from experta import *\n",
        "\n",
        "class PlantPestDiagnosis(KnowledgeEngine):\n",
        "    @Rule(Fact(leaf_yellowing=True) & Fact(black_spots=True))\n",
        "    def fungi(self):\n",
        "        print(\"Diagnosis: Tanaman terkena Jamur.\")\n",
        "\n",
        "    @Rule(Fact(leaf_yellowing=True) & Fact(black_spots=False))\n",
        "    def aphids(self):\n",
        "        print(\"Diagnosis: Tanaman terkena Kutu Daun.\")\n",
        "\n",
        "    @Rule(Fact(leaf_holes=True))\n",
        "    def caterpillars(self):\n",
        "        print(\"Diagnosis: Tanaman terkena Ulat.\")\n",
        "\n",
        "    @Rule(Fact(plant_wilting=True) & Fact(leaf_yellowing=True))\n",
        "    def root_nematodes(self):\n",
        "        print(\"Diagnosis: Tanaman terkena Nematoda Akar.\")\n",
        "\n",
        "    @Rule(Fact(leaf_yellowing=False) & Fact(black_spots=False) & Fact(leaf_holes=False) & Fact(plant_wilting=False))\n",
        "    def healthy(self):\n",
        "        print(\"Diagnosis: Tanaman tampaknya sehat.\")\n",
        "\n",
        "def get_input():\n",
        "    def ask(question):\n",
        "        return input(question + \" (yes/no): \").strip().lower() == \"yes\"\n",
        "\n",
        "    return {\n",
        "        \"leaf_yellowing\": ask(\"Apakah daun menguning?\"),\n",
        "        \"black_spots\": ask(\"Apakah terdapat bercak hitam pada daun?\"),\n",
        "        \"leaf_holes\": ask(\"Apakah daun berlubang?\"),\n",
        "        \"plant_wilting\": ask(\"Apakah tanaman tampak layu?\")\n",
        "    }\n",
        "\n",
        "if __name__ == \"__main__\":\n",
        "    symptoms = get_input()\n",
        "    engine = PlantPestDiagnosis()\n",
        "    engine.reset()\n",
        "\n",
        "    for symptom, present in symptoms.items():\n",
        "        engine.declare(Fact(**{symptom: present}))\n",
        "\n",
        "    engine.run()\n"
      ],
      "metadata": {
        "colab": {
          "base_uri": "https://localhost:8080/"
        },
        "id": "3ZwKIfgR5wsx",
        "outputId": "3301aa53-efc2-45af-b077-10c53598b305"
      },
      "execution_count": 6,
      "outputs": [
        {
          "output_type": "stream",
          "name": "stdout",
          "text": [
            "Apakah daun menguning? (yes/no): yes\n",
            "Apakah terdapat bercak hitam pada daun? (yes/no): no\n",
            "Apakah daun berlubang? (yes/no): no\n",
            "Apakah tanaman tampak layu? (yes/no): no\n",
            "Diagnosis: Tanaman terkena Kutu Daun.\n"
          ]
        }
      ]
    }
  ]
}